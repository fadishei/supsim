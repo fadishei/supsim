{
 "cells": [
  {
   "cell_type": "code",
   "execution_count": 6,
   "id": "worthy-impression",
   "metadata": {},
   "outputs": [],
   "source": [
    "import numpy as np\n",
    "from math import sqrt"
   ]
  },
  {
   "cell_type": "code",
   "execution_count": 7,
   "id": "liquid-honey",
   "metadata": {},
   "outputs": [],
   "source": [
    "x1 = np.array([90.18768235363974, 98.40241155186854, 99.26049162459081, 114.60173592531568, 106.03599558951252])\n",
    "r12 = -0.18508598231627463"
   ]
  },
  {
   "cell_type": "code",
   "execution_count": 8,
   "id": "major-legend",
   "metadata": {},
   "outputs": [],
   "source": [
    "def correlated_normal(x, r, mean, sd):\n",
    "    if abs(r)==1:\n",
    "        return np.sign(r)*x\n",
    "    else:\n",
    "        # generate an initial normal random variable\n",
    "        y = np.random.normal(size=x.size, loc=mean, scale=sd)\n",
    "        # calculate the residuals for least square regression of y against x\n",
    "        c = np.polyfit(x, y, deg=1)\n",
    "        res = y - c[0]*x - c[1]\n",
    "        # recover required correlation via a linear transformation:\n",
    "        z = r*np.std(res)*x + res*np.std(x)*sqrt(1-r**2)\n",
    "        # recover original distribution via a second linear transformation:\n",
    "        a = sd/z.std()\n",
    "        b = mean-a*z.mean()\n",
    "        return a*z + b"
   ]
  },
  {
   "cell_type": "code",
   "execution_count": 9,
   "id": "multiple-machinery",
   "metadata": {},
   "outputs": [
    {
     "data": {
      "text/plain": [
       "array([ 91.43880898, 118.95294388,  99.97983974,  92.19632729,\n",
       "        97.43208011])"
      ]
     },
     "execution_count": 9,
     "metadata": {},
     "output_type": "execute_result"
    }
   ],
   "source": [
    "x2 = correlated_normal(x1, r12, 100, 10)\n",
    "x2"
   ]
  },
  {
   "cell_type": "code",
   "execution_count": 4,
   "id": "related-template",
   "metadata": {},
   "outputs": [
    {
     "data": {
      "text/plain": [
       "-0.18508598231627177"
      ]
     },
     "execution_count": 4,
     "metadata": {},
     "output_type": "execute_result"
    }
   ],
   "source": [
    "r(x1, x2)"
   ]
  },
  {
   "cell_type": "code",
   "execution_count": 49,
   "id": "auburn-novelty",
   "metadata": {},
   "outputs": [],
   "source": []
  },
  {
   "cell_type": "code",
   "execution_count": 50,
   "id": "corrected-niagara",
   "metadata": {},
   "outputs": [
    {
     "data": {
      "text/plain": [
       "0.2500000000000008"
      ]
     },
     "execution_count": 50,
     "metadata": {},
     "output_type": "execute_result"
    }
   ],
   "source": [
    "x1 = np.random.normal(size=100, loc=100, scale=10)\n",
    "r12 = 0.25\n",
    "x2 = cn(x1, r12, 100, 10)\n",
    "r(x1, x2)"
   ]
  },
  {
   "cell_type": "code",
   "execution_count": null,
   "id": "combined-symbol",
   "metadata": {},
   "outputs": [],
   "source": []
  }
 ],
 "metadata": {
  "kernelspec": {
   "display_name": "Python 3",
   "language": "python",
   "name": "python3"
  },
  "language_info": {
   "codemirror_mode": {
    "name": "ipython",
    "version": 3
   },
   "file_extension": ".py",
   "mimetype": "text/x-python",
   "name": "python",
   "nbconvert_exporter": "python",
   "pygments_lexer": "ipython3",
   "version": "3.8.8"
  }
 },
 "nbformat": 4,
 "nbformat_minor": 5
}
